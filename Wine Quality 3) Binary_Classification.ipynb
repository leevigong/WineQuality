{
 "cells": [
  {
   "cell_type": "markdown",
   "id": "84051b5f",
   "metadata": {},
   "source": [
    "# 필요한 모듈 설정"
   ]
  },
  {
   "cell_type": "code",
   "execution_count": 1,
   "id": "bff2d1f5",
   "metadata": {
    "colab": {
     "base_uri": "https://localhost:8080/"
    },
    "id": "bff2d1f5",
    "outputId": "71aa6dca-1e5e-4ab1-e2b9-95406c3974b3"
   },
   "outputs": [],
   "source": [
    "import pandas as pd\n",
    "import matplotlib.pyplot as plt\n",
    "import seaborn as sns\n",
    "import numpy as np\n",
    "from matplotlib import patches\n",
    "%matplotlib inline"
   ]
  },
  {
   "cell_type": "markdown",
   "id": "dc60efab",
   "metadata": {},
   "source": [
    "# 데이터 로드"
   ]
  },
  {
   "cell_type": "code",
   "execution_count": 2,
   "id": "b8e0b829",
   "metadata": {
    "colab": {
     "base_uri": "https://localhost:8080/",
     "height": 285
    },
    "id": "b8e0b829",
    "outputId": "8384dc39-72ab-44ad-e6be-b8da4867165b",
    "scrolled": true
   },
   "outputs": [
    {
     "data": {
      "text/html": [
       "<div>\n",
       "<style scoped>\n",
       "    .dataframe tbody tr th:only-of-type {\n",
       "        vertical-align: middle;\n",
       "    }\n",
       "\n",
       "    .dataframe tbody tr th {\n",
       "        vertical-align: top;\n",
       "    }\n",
       "\n",
       "    .dataframe thead th {\n",
       "        text-align: right;\n",
       "    }\n",
       "</style>\n",
       "<table border=\"1\" class=\"dataframe\">\n",
       "  <thead>\n",
       "    <tr style=\"text-align: right;\">\n",
       "      <th></th>\n",
       "      <th>fixed acidity</th>\n",
       "      <th>volatile acidity</th>\n",
       "      <th>citric acid</th>\n",
       "      <th>residual sugar</th>\n",
       "      <th>chlorides</th>\n",
       "      <th>free sulfur dioxide</th>\n",
       "      <th>total sulfur dioxide</th>\n",
       "      <th>density</th>\n",
       "      <th>pH</th>\n",
       "      <th>sulphates</th>\n",
       "      <th>alcohol</th>\n",
       "      <th>quality</th>\n",
       "    </tr>\n",
       "  </thead>\n",
       "  <tbody>\n",
       "    <tr>\n",
       "      <th>0</th>\n",
       "      <td>7.4</td>\n",
       "      <td>0.70</td>\n",
       "      <td>0.00</td>\n",
       "      <td>1.9</td>\n",
       "      <td>0.076</td>\n",
       "      <td>11.0</td>\n",
       "      <td>34.0</td>\n",
       "      <td>0.9978</td>\n",
       "      <td>3.51</td>\n",
       "      <td>0.56</td>\n",
       "      <td>9.4</td>\n",
       "      <td>5</td>\n",
       "    </tr>\n",
       "    <tr>\n",
       "      <th>1</th>\n",
       "      <td>7.8</td>\n",
       "      <td>0.88</td>\n",
       "      <td>0.00</td>\n",
       "      <td>2.6</td>\n",
       "      <td>0.098</td>\n",
       "      <td>25.0</td>\n",
       "      <td>67.0</td>\n",
       "      <td>0.9968</td>\n",
       "      <td>3.20</td>\n",
       "      <td>0.68</td>\n",
       "      <td>9.8</td>\n",
       "      <td>5</td>\n",
       "    </tr>\n",
       "    <tr>\n",
       "      <th>2</th>\n",
       "      <td>7.8</td>\n",
       "      <td>0.76</td>\n",
       "      <td>0.04</td>\n",
       "      <td>2.3</td>\n",
       "      <td>0.092</td>\n",
       "      <td>15.0</td>\n",
       "      <td>54.0</td>\n",
       "      <td>0.9970</td>\n",
       "      <td>3.26</td>\n",
       "      <td>0.65</td>\n",
       "      <td>9.8</td>\n",
       "      <td>5</td>\n",
       "    </tr>\n",
       "    <tr>\n",
       "      <th>3</th>\n",
       "      <td>11.2</td>\n",
       "      <td>0.28</td>\n",
       "      <td>0.56</td>\n",
       "      <td>1.9</td>\n",
       "      <td>0.075</td>\n",
       "      <td>17.0</td>\n",
       "      <td>60.0</td>\n",
       "      <td>0.9980</td>\n",
       "      <td>3.16</td>\n",
       "      <td>0.58</td>\n",
       "      <td>9.8</td>\n",
       "      <td>6</td>\n",
       "    </tr>\n",
       "    <tr>\n",
       "      <th>4</th>\n",
       "      <td>7.4</td>\n",
       "      <td>0.70</td>\n",
       "      <td>0.00</td>\n",
       "      <td>1.9</td>\n",
       "      <td>0.076</td>\n",
       "      <td>11.0</td>\n",
       "      <td>34.0</td>\n",
       "      <td>0.9978</td>\n",
       "      <td>3.51</td>\n",
       "      <td>0.56</td>\n",
       "      <td>9.4</td>\n",
       "      <td>5</td>\n",
       "    </tr>\n",
       "  </tbody>\n",
       "</table>\n",
       "</div>"
      ],
      "text/plain": [
       "   fixed acidity  volatile acidity  citric acid  residual sugar  chlorides  \\\n",
       "0            7.4              0.70         0.00             1.9      0.076   \n",
       "1            7.8              0.88         0.00             2.6      0.098   \n",
       "2            7.8              0.76         0.04             2.3      0.092   \n",
       "3           11.2              0.28         0.56             1.9      0.075   \n",
       "4            7.4              0.70         0.00             1.9      0.076   \n",
       "\n",
       "   free sulfur dioxide  total sulfur dioxide  density    pH  sulphates  \\\n",
       "0                 11.0                  34.0   0.9978  3.51       0.56   \n",
       "1                 25.0                  67.0   0.9968  3.20       0.68   \n",
       "2                 15.0                  54.0   0.9970  3.26       0.65   \n",
       "3                 17.0                  60.0   0.9980  3.16       0.58   \n",
       "4                 11.0                  34.0   0.9978  3.51       0.56   \n",
       "\n",
       "   alcohol  quality  \n",
       "0      9.4        5  \n",
       "1      9.8        5  \n",
       "2      9.8        5  \n",
       "3      9.8        6  \n",
       "4      9.4        5  "
      ]
     },
     "execution_count": 2,
     "metadata": {},
     "output_type": "execute_result"
    }
   ],
   "source": [
    "wine = pd.read_csv('WineQT.csv')\n",
    "wine.drop([\"Id\"],axis=1, inplace=True) # 필요없는 'Id' column 제거\n",
    "wine.head()"
   ]
  },
  {
   "cell_type": "markdown",
   "id": "e0b8c409",
   "metadata": {},
   "source": [
    "## 데이터 크기, 결측치 확인"
   ]
  },
  {
   "cell_type": "code",
   "execution_count": 3,
   "id": "8f820f66",
   "metadata": {
    "colab": {
     "base_uri": "https://localhost:8080/"
    },
    "id": "8f820f66",
    "outputId": "5adee76b-d760-456f-aa35-1bae06930074"
   },
   "outputs": [
    {
     "data": {
      "text/plain": [
       "(1143, 12)"
      ]
     },
     "execution_count": 3,
     "metadata": {},
     "output_type": "execute_result"
    }
   ],
   "source": [
    "wine.shape"
   ]
  },
  {
   "cell_type": "code",
   "execution_count": 4,
   "id": "294e8784",
   "metadata": {
    "colab": {
     "base_uri": "https://localhost:8080/"
    },
    "id": "294e8784",
    "outputId": "00709854-afe0-4df8-a00d-c68dae886ddd",
    "scrolled": true
   },
   "outputs": [
    {
     "data": {
      "text/plain": [
       "fixed acidity           0\n",
       "volatile acidity        0\n",
       "citric acid             0\n",
       "residual sugar          0\n",
       "chlorides               0\n",
       "free sulfur dioxide     0\n",
       "total sulfur dioxide    0\n",
       "density                 0\n",
       "pH                      0\n",
       "sulphates               0\n",
       "alcohol                 0\n",
       "quality                 0\n",
       "dtype: int64"
      ]
     },
     "execution_count": 4,
     "metadata": {},
     "output_type": "execute_result"
    }
   ],
   "source": [
    "wine.isnull().sum()"
   ]
  },
  {
   "cell_type": "markdown",
   "id": "2edb8679",
   "metadata": {},
   "source": [
    "## 데이터 전처리 : good / bad\n",
    "\n",
    "- 2 ~ 6.5 : bad\n",
    "- 6.5 ~ 8 : good"
   ]
  },
  {
   "cell_type": "code",
   "execution_count": 5,
   "id": "xwuT2y-AQYYB",
   "metadata": {
    "id": "xwuT2y-AQYYB"
   },
   "outputs": [],
   "source": [
    "my_bins = (2, 6.5, 8)\n",
    "groups = ['bad', 'good']\n",
    "wine['quality'] = pd.cut(wine['quality'], bins = my_bins, labels = groups)"
   ]
  },
  {
   "cell_type": "code",
   "execution_count": 6,
   "id": "74227dce",
   "metadata": {},
   "outputs": [
    {
     "data": {
      "text/plain": [
       "0       bad\n",
       "1       bad\n",
       "2       bad\n",
       "3       bad\n",
       "4       bad\n",
       "       ... \n",
       "1138    bad\n",
       "1139    bad\n",
       "1140    bad\n",
       "1141    bad\n",
       "1142    bad\n",
       "Name: quality, Length: 1143, dtype: category\n",
       "Categories (2, object): ['bad' < 'good']"
      ]
     },
     "execution_count": 6,
     "metadata": {},
     "output_type": "execute_result"
    }
   ],
   "source": [
    "wine['quality']"
   ]
  },
  {
   "cell_type": "markdown",
   "id": "c9f52129",
   "metadata": {
    "id": "c9f52129"
   },
   "source": [
    "# Modeling "
   ]
  },
  {
   "cell_type": "markdown",
   "id": "163b030a",
   "metadata": {},
   "source": [
    "## Scaled, Normalization"
   ]
  },
  {
   "cell_type": "code",
   "execution_count": 7,
   "id": "b7f5f3f3",
   "metadata": {
    "colab": {
     "base_uri": "https://localhost:8080/",
     "height": 502
    },
    "id": "b7f5f3f3",
    "outputId": "b21c36c2-78a7-4bc4-db2b-47867732aa33"
   },
   "outputs": [
    {
     "data": {
      "text/html": [
       "<div>\n",
       "<style scoped>\n",
       "    .dataframe tbody tr th:only-of-type {\n",
       "        vertical-align: middle;\n",
       "    }\n",
       "\n",
       "    .dataframe tbody tr th {\n",
       "        vertical-align: top;\n",
       "    }\n",
       "\n",
       "    .dataframe thead th {\n",
       "        text-align: right;\n",
       "    }\n",
       "</style>\n",
       "<table border=\"1\" class=\"dataframe\">\n",
       "  <thead>\n",
       "    <tr style=\"text-align: right;\">\n",
       "      <th></th>\n",
       "      <th>fixed acidity</th>\n",
       "      <th>volatile acidity</th>\n",
       "      <th>citric acid</th>\n",
       "      <th>residual sugar</th>\n",
       "      <th>chlorides</th>\n",
       "      <th>free sulfur dioxide</th>\n",
       "      <th>total sulfur dioxide</th>\n",
       "      <th>density</th>\n",
       "      <th>pH</th>\n",
       "      <th>sulphates</th>\n",
       "      <th>alcohol</th>\n",
       "    </tr>\n",
       "  </thead>\n",
       "  <tbody>\n",
       "    <tr>\n",
       "      <th>0</th>\n",
       "      <td>0.247788</td>\n",
       "      <td>0.397260</td>\n",
       "      <td>0.000000</td>\n",
       "      <td>0.068493</td>\n",
       "      <td>0.106845</td>\n",
       "      <td>0.149254</td>\n",
       "      <td>0.098940</td>\n",
       "      <td>0.567548</td>\n",
       "      <td>0.606299</td>\n",
       "      <td>0.137725</td>\n",
       "      <td>0.153846</td>\n",
       "    </tr>\n",
       "    <tr>\n",
       "      <th>1</th>\n",
       "      <td>0.283186</td>\n",
       "      <td>0.520548</td>\n",
       "      <td>0.000000</td>\n",
       "      <td>0.116438</td>\n",
       "      <td>0.143573</td>\n",
       "      <td>0.358209</td>\n",
       "      <td>0.215548</td>\n",
       "      <td>0.494126</td>\n",
       "      <td>0.362205</td>\n",
       "      <td>0.209581</td>\n",
       "      <td>0.215385</td>\n",
       "    </tr>\n",
       "    <tr>\n",
       "      <th>2</th>\n",
       "      <td>0.283186</td>\n",
       "      <td>0.438356</td>\n",
       "      <td>0.040000</td>\n",
       "      <td>0.095890</td>\n",
       "      <td>0.133556</td>\n",
       "      <td>0.208955</td>\n",
       "      <td>0.169611</td>\n",
       "      <td>0.508811</td>\n",
       "      <td>0.409449</td>\n",
       "      <td>0.191617</td>\n",
       "      <td>0.215385</td>\n",
       "    </tr>\n",
       "    <tr>\n",
       "      <th>3</th>\n",
       "      <td>0.584071</td>\n",
       "      <td>0.109589</td>\n",
       "      <td>0.560000</td>\n",
       "      <td>0.068493</td>\n",
       "      <td>0.105175</td>\n",
       "      <td>0.238806</td>\n",
       "      <td>0.190813</td>\n",
       "      <td>0.582232</td>\n",
       "      <td>0.330709</td>\n",
       "      <td>0.149701</td>\n",
       "      <td>0.215385</td>\n",
       "    </tr>\n",
       "    <tr>\n",
       "      <th>4</th>\n",
       "      <td>0.247788</td>\n",
       "      <td>0.397260</td>\n",
       "      <td>0.000000</td>\n",
       "      <td>0.068493</td>\n",
       "      <td>0.106845</td>\n",
       "      <td>0.149254</td>\n",
       "      <td>0.098940</td>\n",
       "      <td>0.567548</td>\n",
       "      <td>0.606299</td>\n",
       "      <td>0.137725</td>\n",
       "      <td>0.153846</td>\n",
       "    </tr>\n",
       "    <tr>\n",
       "      <th>...</th>\n",
       "      <td>...</td>\n",
       "      <td>...</td>\n",
       "      <td>...</td>\n",
       "      <td>...</td>\n",
       "      <td>...</td>\n",
       "      <td>...</td>\n",
       "      <td>...</td>\n",
       "      <td>...</td>\n",
       "      <td>...</td>\n",
       "      <td>...</td>\n",
       "      <td>...</td>\n",
       "    </tr>\n",
       "    <tr>\n",
       "      <th>1963</th>\n",
       "      <td>0.254830</td>\n",
       "      <td>0.321670</td>\n",
       "      <td>0.157299</td>\n",
       "      <td>0.115822</td>\n",
       "      <td>0.112991</td>\n",
       "      <td>0.221505</td>\n",
       "      <td>0.097656</td>\n",
       "      <td>0.534541</td>\n",
       "      <td>0.632593</td>\n",
       "      <td>0.231771</td>\n",
       "      <td>0.418204</td>\n",
       "    </tr>\n",
       "    <tr>\n",
       "      <th>1964</th>\n",
       "      <td>0.607288</td>\n",
       "      <td>0.198411</td>\n",
       "      <td>0.620924</td>\n",
       "      <td>0.138909</td>\n",
       "      <td>0.151238</td>\n",
       "      <td>0.134328</td>\n",
       "      <td>0.060623</td>\n",
       "      <td>0.674334</td>\n",
       "      <td>0.337604</td>\n",
       "      <td>0.311377</td>\n",
       "      <td>0.338953</td>\n",
       "    </tr>\n",
       "    <tr>\n",
       "      <th>1965</th>\n",
       "      <td>0.491102</td>\n",
       "      <td>0.180446</td>\n",
       "      <td>0.530000</td>\n",
       "      <td>0.142310</td>\n",
       "      <td>0.109708</td>\n",
       "      <td>0.029851</td>\n",
       "      <td>0.014134</td>\n",
       "      <td>0.419272</td>\n",
       "      <td>0.285113</td>\n",
       "      <td>0.237307</td>\n",
       "      <td>0.464382</td>\n",
       "    </tr>\n",
       "    <tr>\n",
       "      <th>1966</th>\n",
       "      <td>0.377087</td>\n",
       "      <td>0.198804</td>\n",
       "      <td>0.412081</td>\n",
       "      <td>0.191873</td>\n",
       "      <td>0.111658</td>\n",
       "      <td>0.111650</td>\n",
       "      <td>0.038869</td>\n",
       "      <td>0.255253</td>\n",
       "      <td>0.358421</td>\n",
       "      <td>0.175983</td>\n",
       "      <td>0.678719</td>\n",
       "    </tr>\n",
       "    <tr>\n",
       "      <th>1967</th>\n",
       "      <td>0.725664</td>\n",
       "      <td>0.339041</td>\n",
       "      <td>0.660000</td>\n",
       "      <td>0.335616</td>\n",
       "      <td>0.118531</td>\n",
       "      <td>0.089552</td>\n",
       "      <td>0.127208</td>\n",
       "      <td>0.890602</td>\n",
       "      <td>0.259843</td>\n",
       "      <td>0.239521</td>\n",
       "      <td>0.246154</td>\n",
       "    </tr>\n",
       "  </tbody>\n",
       "</table>\n",
       "<p>1968 rows × 11 columns</p>\n",
       "</div>"
      ],
      "text/plain": [
       "      fixed acidity  volatile acidity  citric acid  residual sugar  chlorides  \\\n",
       "0          0.247788          0.397260     0.000000        0.068493   0.106845   \n",
       "1          0.283186          0.520548     0.000000        0.116438   0.143573   \n",
       "2          0.283186          0.438356     0.040000        0.095890   0.133556   \n",
       "3          0.584071          0.109589     0.560000        0.068493   0.105175   \n",
       "4          0.247788          0.397260     0.000000        0.068493   0.106845   \n",
       "...             ...               ...          ...             ...        ...   \n",
       "1963       0.254830          0.321670     0.157299        0.115822   0.112991   \n",
       "1964       0.607288          0.198411     0.620924        0.138909   0.151238   \n",
       "1965       0.491102          0.180446     0.530000        0.142310   0.109708   \n",
       "1966       0.377087          0.198804     0.412081        0.191873   0.111658   \n",
       "1967       0.725664          0.339041     0.660000        0.335616   0.118531   \n",
       "\n",
       "      free sulfur dioxide  total sulfur dioxide   density        pH  \\\n",
       "0                0.149254              0.098940  0.567548  0.606299   \n",
       "1                0.358209              0.215548  0.494126  0.362205   \n",
       "2                0.208955              0.169611  0.508811  0.409449   \n",
       "3                0.238806              0.190813  0.582232  0.330709   \n",
       "4                0.149254              0.098940  0.567548  0.606299   \n",
       "...                   ...                   ...       ...       ...   \n",
       "1963             0.221505              0.097656  0.534541  0.632593   \n",
       "1964             0.134328              0.060623  0.674334  0.337604   \n",
       "1965             0.029851              0.014134  0.419272  0.285113   \n",
       "1966             0.111650              0.038869  0.255253  0.358421   \n",
       "1967             0.089552              0.127208  0.890602  0.259843   \n",
       "\n",
       "      sulphates   alcohol  \n",
       "0      0.137725  0.153846  \n",
       "1      0.209581  0.215385  \n",
       "2      0.191617  0.215385  \n",
       "3      0.149701  0.215385  \n",
       "4      0.137725  0.153846  \n",
       "...         ...       ...  \n",
       "1963   0.231771  0.418204  \n",
       "1964   0.311377  0.338953  \n",
       "1965   0.237307  0.464382  \n",
       "1966   0.175983  0.678719  \n",
       "1967   0.239521  0.246154  \n",
       "\n",
       "[1968 rows x 11 columns]"
      ]
     },
     "execution_count": 7,
     "metadata": {},
     "output_type": "execute_result"
    }
   ],
   "source": [
    "from sklearn import preprocessing\n",
    "from imblearn.over_sampling import SMOTE \n",
    "\n",
    "oversample = SMOTE()\n",
    "features, labels =  oversample.fit_resample(wine.drop([\"quality\"],axis=1), wine[\"quality\"])\n",
    "scaler = preprocessing.MinMaxScaler()\n",
    "scaled_data = pd.DataFrame(scaler.fit_transform(features), columns=features.columns)\n",
    "scaled_data"
   ]
  },
  {
   "cell_type": "code",
   "execution_count": 8,
   "id": "a0b64a79",
   "metadata": {
    "colab": {
     "base_uri": "https://localhost:8080/",
     "height": 502
    },
    "id": "a0b64a79",
    "outputId": "04f05334-a3ad-4011-8ab8-b8a066dfa841"
   },
   "outputs": [
    {
     "data": {
      "text/html": [
       "<div>\n",
       "<style scoped>\n",
       "    .dataframe tbody tr th:only-of-type {\n",
       "        vertical-align: middle;\n",
       "    }\n",
       "\n",
       "    .dataframe tbody tr th {\n",
       "        vertical-align: top;\n",
       "    }\n",
       "\n",
       "    .dataframe thead th {\n",
       "        text-align: right;\n",
       "    }\n",
       "</style>\n",
       "<table border=\"1\" class=\"dataframe\">\n",
       "  <thead>\n",
       "    <tr style=\"text-align: right;\">\n",
       "      <th></th>\n",
       "      <th>fixed acidity</th>\n",
       "      <th>volatile acidity</th>\n",
       "      <th>citric acid</th>\n",
       "      <th>residual sugar</th>\n",
       "      <th>chlorides</th>\n",
       "      <th>free sulfur dioxide</th>\n",
       "      <th>total sulfur dioxide</th>\n",
       "      <th>density</th>\n",
       "      <th>pH</th>\n",
       "      <th>sulphates</th>\n",
       "      <th>alcohol</th>\n",
       "    </tr>\n",
       "  </thead>\n",
       "  <tbody>\n",
       "    <tr>\n",
       "      <th>0</th>\n",
       "      <td>0.247821</td>\n",
       "      <td>0.397313</td>\n",
       "      <td>0.000000</td>\n",
       "      <td>0.068502</td>\n",
       "      <td>0.106859</td>\n",
       "      <td>0.149274</td>\n",
       "      <td>0.098953</td>\n",
       "      <td>0.567623</td>\n",
       "      <td>0.606380</td>\n",
       "      <td>0.137743</td>\n",
       "      <td>0.153867</td>\n",
       "    </tr>\n",
       "    <tr>\n",
       "      <th>1</th>\n",
       "      <td>0.279605</td>\n",
       "      <td>0.513966</td>\n",
       "      <td>0.000000</td>\n",
       "      <td>0.114966</td>\n",
       "      <td>0.141757</td>\n",
       "      <td>0.353679</td>\n",
       "      <td>0.212822</td>\n",
       "      <td>0.487878</td>\n",
       "      <td>0.357625</td>\n",
       "      <td>0.206931</td>\n",
       "      <td>0.212661</td>\n",
       "    </tr>\n",
       "    <tr>\n",
       "      <th>2</th>\n",
       "      <td>0.301354</td>\n",
       "      <td>0.466480</td>\n",
       "      <td>0.042566</td>\n",
       "      <td>0.102042</td>\n",
       "      <td>0.142124</td>\n",
       "      <td>0.222361</td>\n",
       "      <td>0.180493</td>\n",
       "      <td>0.541454</td>\n",
       "      <td>0.435718</td>\n",
       "      <td>0.203910</td>\n",
       "      <td>0.229203</td>\n",
       "    </tr>\n",
       "    <tr>\n",
       "      <th>3</th>\n",
       "      <td>0.513628</td>\n",
       "      <td>0.096372</td>\n",
       "      <td>0.492461</td>\n",
       "      <td>0.060232</td>\n",
       "      <td>0.092491</td>\n",
       "      <td>0.210005</td>\n",
       "      <td>0.167800</td>\n",
       "      <td>0.512011</td>\n",
       "      <td>0.290823</td>\n",
       "      <td>0.131646</td>\n",
       "      <td>0.189408</td>\n",
       "    </tr>\n",
       "    <tr>\n",
       "      <th>4</th>\n",
       "      <td>0.247821</td>\n",
       "      <td>0.397313</td>\n",
       "      <td>0.000000</td>\n",
       "      <td>0.068502</td>\n",
       "      <td>0.106859</td>\n",
       "      <td>0.149274</td>\n",
       "      <td>0.098953</td>\n",
       "      <td>0.567623</td>\n",
       "      <td>0.606380</td>\n",
       "      <td>0.137743</td>\n",
       "      <td>0.153867</td>\n",
       "    </tr>\n",
       "    <tr>\n",
       "      <th>...</th>\n",
       "      <td>...</td>\n",
       "      <td>...</td>\n",
       "      <td>...</td>\n",
       "      <td>...</td>\n",
       "      <td>...</td>\n",
       "      <td>...</td>\n",
       "      <td>...</td>\n",
       "      <td>...</td>\n",
       "      <td>...</td>\n",
       "      <td>...</td>\n",
       "      <td>...</td>\n",
       "    </tr>\n",
       "    <tr>\n",
       "      <th>1963</th>\n",
       "      <td>0.233362</td>\n",
       "      <td>0.294571</td>\n",
       "      <td>0.144047</td>\n",
       "      <td>0.106064</td>\n",
       "      <td>0.103472</td>\n",
       "      <td>0.202844</td>\n",
       "      <td>0.089429</td>\n",
       "      <td>0.489508</td>\n",
       "      <td>0.579299</td>\n",
       "      <td>0.212245</td>\n",
       "      <td>0.382972</td>\n",
       "    </tr>\n",
       "    <tr>\n",
       "      <th>1964</th>\n",
       "      <td>0.474480</td>\n",
       "      <td>0.155021</td>\n",
       "      <td>0.485134</td>\n",
       "      <td>0.108531</td>\n",
       "      <td>0.118164</td>\n",
       "      <td>0.104952</td>\n",
       "      <td>0.047365</td>\n",
       "      <td>0.526864</td>\n",
       "      <td>0.263773</td>\n",
       "      <td>0.243282</td>\n",
       "      <td>0.264828</td>\n",
       "    </tr>\n",
       "    <tr>\n",
       "      <th>1965</th>\n",
       "      <td>0.464657</td>\n",
       "      <td>0.170730</td>\n",
       "      <td>0.501461</td>\n",
       "      <td>0.134647</td>\n",
       "      <td>0.103800</td>\n",
       "      <td>0.028243</td>\n",
       "      <td>0.013373</td>\n",
       "      <td>0.396695</td>\n",
       "      <td>0.269760</td>\n",
       "      <td>0.224529</td>\n",
       "      <td>0.439376</td>\n",
       "    </tr>\n",
       "    <tr>\n",
       "      <th>1966</th>\n",
       "      <td>0.359532</td>\n",
       "      <td>0.189549</td>\n",
       "      <td>0.392897</td>\n",
       "      <td>0.182941</td>\n",
       "      <td>0.106460</td>\n",
       "      <td>0.106452</td>\n",
       "      <td>0.037060</td>\n",
       "      <td>0.243370</td>\n",
       "      <td>0.341735</td>\n",
       "      <td>0.167791</td>\n",
       "      <td>0.647123</td>\n",
       "    </tr>\n",
       "    <tr>\n",
       "      <th>1967</th>\n",
       "      <td>0.488501</td>\n",
       "      <td>0.228235</td>\n",
       "      <td>0.444298</td>\n",
       "      <td>0.225930</td>\n",
       "      <td>0.079792</td>\n",
       "      <td>0.060285</td>\n",
       "      <td>0.085634</td>\n",
       "      <td>0.599534</td>\n",
       "      <td>0.174920</td>\n",
       "      <td>0.161240</td>\n",
       "      <td>0.165706</td>\n",
       "    </tr>\n",
       "  </tbody>\n",
       "</table>\n",
       "<p>1968 rows × 11 columns</p>\n",
       "</div>"
      ],
      "text/plain": [
       "      fixed acidity  volatile acidity  citric acid  residual sugar  chlorides  \\\n",
       "0          0.247821          0.397313     0.000000        0.068502   0.106859   \n",
       "1          0.279605          0.513966     0.000000        0.114966   0.141757   \n",
       "2          0.301354          0.466480     0.042566        0.102042   0.142124   \n",
       "3          0.513628          0.096372     0.492461        0.060232   0.092491   \n",
       "4          0.247821          0.397313     0.000000        0.068502   0.106859   \n",
       "...             ...               ...          ...             ...        ...   \n",
       "1963       0.233362          0.294571     0.144047        0.106064   0.103472   \n",
       "1964       0.474480          0.155021     0.485134        0.108531   0.118164   \n",
       "1965       0.464657          0.170730     0.501461        0.134647   0.103800   \n",
       "1966       0.359532          0.189549     0.392897        0.182941   0.106460   \n",
       "1967       0.488501          0.228235     0.444298        0.225930   0.079792   \n",
       "\n",
       "      free sulfur dioxide  total sulfur dioxide   density        pH  \\\n",
       "0                0.149274              0.098953  0.567623  0.606380   \n",
       "1                0.353679              0.212822  0.487878  0.357625   \n",
       "2                0.222361              0.180493  0.541454  0.435718   \n",
       "3                0.210005              0.167800  0.512011  0.290823   \n",
       "4                0.149274              0.098953  0.567623  0.606380   \n",
       "...                   ...                   ...       ...       ...   \n",
       "1963             0.202844              0.089429  0.489508  0.579299   \n",
       "1964             0.104952              0.047365  0.526864  0.263773   \n",
       "1965             0.028243              0.013373  0.396695  0.269760   \n",
       "1966             0.106452              0.037060  0.243370  0.341735   \n",
       "1967             0.060285              0.085634  0.599534  0.174920   \n",
       "\n",
       "      sulphates   alcohol  \n",
       "0      0.137743  0.153867  \n",
       "1      0.206931  0.212661  \n",
       "2      0.203910  0.229203  \n",
       "3      0.131646  0.189408  \n",
       "4      0.137743  0.153867  \n",
       "...         ...       ...  \n",
       "1963   0.212245  0.382972  \n",
       "1964   0.243282  0.264828  \n",
       "1965   0.224529  0.439376  \n",
       "1966   0.167791  0.647123  \n",
       "1967   0.161240  0.165706  \n",
       "\n",
       "[1968 rows x 11 columns]"
      ]
     },
     "execution_count": 8,
     "metadata": {},
     "output_type": "execute_result"
    }
   ],
   "source": [
    "normalized_arr = preprocessing.normalize(scaled_data)\n",
    "normalized_data = pd.DataFrame(normalized_arr, columns=features.columns)\n",
    "normalized_data"
   ]
  },
  {
   "cell_type": "code",
   "execution_count": 9,
   "id": "2245672a",
   "metadata": {
    "id": "2245672a"
   },
   "outputs": [],
   "source": [
    "from numpy import log\n",
    "import warnings\n",
    "warnings.filterwarnings(action='ignore')\n",
    "unskew_data = normalized_data.copy(deep=True)"
   ]
  },
  {
   "cell_type": "markdown",
   "id": "4e922330",
   "metadata": {},
   "source": [
    "## Classifier Models"
   ]
  },
  {
   "cell_type": "code",
   "execution_count": 10,
   "id": "53eab790",
   "metadata": {
    "id": "53eab790"
   },
   "outputs": [],
   "source": [
    "from sklearn.ensemble import RandomForestClassifier, ExtraTreesClassifier\n",
    "from sklearn.tree import DecisionTreeClassifier\n",
    "from sklearn.linear_model import LogisticRegression\n",
    "from sklearn.neighbors import KNeighborsClassifier\n",
    "from sklearn.svm import SVC\n",
    "from sklearn.metrics import accuracy_score, precision_score, recall_score, f1_score\n",
    "from sklearn.metrics import classification_report\n",
    "from sklearn import metrics"
   ]
  },
  {
   "cell_type": "code",
   "execution_count": 11,
   "id": "77449d64",
   "metadata": {
    "id": "77449d64"
   },
   "outputs": [],
   "source": [
    "rnd_clf = RandomForestClassifier(random_state=42)\n",
    "log_clf = LogisticRegression(random_state=42)\n",
    "dt_clf = DecisionTreeClassifier(random_state=42)\n",
    "kn_clf = KNeighborsClassifier()\n",
    "svm_clf = SVC(random_state=42)\n",
    "\n",
    "models = [rnd_clf, dt_clf, kn_clf, svm_clf, log_clf]"
   ]
  },
  {
   "cell_type": "markdown",
   "id": "690b1d3a",
   "metadata": {},
   "source": [
    "## train / test split"
   ]
  },
  {
   "cell_type": "code",
   "execution_count": 12,
   "id": "eed46067",
   "metadata": {
    "id": "eed46067"
   },
   "outputs": [],
   "source": [
    "from sklearn.model_selection import train_test_split\n",
    "\n",
    "X_train, X_test, y_train, y_test = train_test_split(unskew_data, labels, test_size=0.2, random_state=42)"
   ]
  },
  {
   "cell_type": "markdown",
   "id": "25114b39",
   "metadata": {},
   "source": [
    "## fit"
   ]
  },
  {
   "cell_type": "code",
   "execution_count": 13,
   "id": "dde9d76a",
   "metadata": {
    "id": "dde9d76a"
   },
   "outputs": [],
   "source": [
    "for m in models:\n",
    "    m.fit(X_train, y_train)"
   ]
  },
  {
   "cell_type": "markdown",
   "id": "9dda4a5c",
   "metadata": {},
   "source": [
    "## predict"
   ]
  },
  {
   "cell_type": "code",
   "execution_count": 14,
   "id": "830440e9",
   "metadata": {
    "colab": {
     "base_uri": "https://localhost:8080/"
    },
    "id": "830440e9",
    "outputId": "a68c5eac-66ba-441c-8cf6-d85e25f41c84"
   },
   "outputs": [
    {
     "name": "stdout",
     "output_type": "stream",
     "text": [
      "RandomForestClassifier Acc:  0.9695431472081218\n",
      "RandomForestClassifier Precision:  0.9697461667310914\n",
      "RandomForestClassifier Recall:  0.970133856033838\n",
      "RandomForestClassifier F1:  0.9695400077309625\n",
      "\n",
      "\n",
      "DecisionTreeClassifier Acc:  0.9111675126903553\n",
      "DecisionTreeClassifier Precision:  0.9110309278350516\n",
      "DecisionTreeClassifier Recall:  0.9113171536894231\n",
      "DecisionTreeClassifier F1:  0.9111211369275886\n",
      "\n",
      "\n",
      "KNeighborsClassifier Acc:  0.9213197969543148\n",
      "KNeighborsClassifier Precision:  0.9301801801801801\n",
      "KNeighborsClassifier Recall:  0.9236453201970443\n",
      "KNeighborsClassifier F1:  0.921136400322841\n",
      "\n",
      "\n",
      "SVC Acc:  0.8807106598984772\n",
      "SVC Precision:  0.8813428217821782\n",
      "SVC Recall:  0.8814510097232611\n",
      "SVC F1:  0.880709891454891\n",
      "\n",
      "\n",
      "LogisticRegression Acc:  0.8274111675126904\n",
      "LogisticRegression Precision:  0.8272368726316603\n",
      "LogisticRegression Recall:  0.827405668893302\n",
      "LogisticRegression F1:  0.8272999174917492\n",
      "\n",
      "\n"
     ]
    }
   ],
   "source": [
    "accuracy = []\n",
    "precision = []\n",
    "recall = []\n",
    "F1 = []\n",
    "\n",
    "for m in models:\n",
    "    y_pred = m.predict(X_test)\n",
    "    print(m.__class__.__name__,'Acc: ', accuracy_score(y_test,y_pred))\n",
    "    print(m.__class__.__name__,'Precision: ', precision_score(y_test,y_pred, average = \"macro\"))\n",
    "    print(m.__class__.__name__,'Recall: ', recall_score(y_test,y_pred, average = \"macro\"))\n",
    "    print(m.__class__.__name__,'F1: ', f1_score(y_test,y_pred, average = \"macro\"))\n",
    "    \n",
    "    print(\"\")\n",
    "    \n",
    "    acc = accuracy_score(y_test,y_pred)\n",
    "    pcs = precision_score(y_test,y_pred, average = \"macro\")\n",
    "    rec = recall_score(y_test,y_pred, average = \"macro\")\n",
    "    f1 = f1_score(y_test,y_pred, average = \"macro\")\n",
    "    \n",
    "    accuracy.append(acc)\n",
    "    precision.append(pcs)\n",
    "    recall.append(rec)\n",
    "    F1.append(f1)\n",
    "    \n",
    "    print(\"\")"
   ]
  },
  {
   "cell_type": "markdown",
   "id": "4cc548d5",
   "metadata": {},
   "source": [
    "# Metrics Score"
   ]
  },
  {
   "cell_type": "code",
   "execution_count": 15,
   "id": "32ff402e",
   "metadata": {},
   "outputs": [
    {
     "name": "stdout",
     "output_type": "stream",
     "text": [
      "[96, 91, 92, 88, 82]\n"
     ]
    }
   ],
   "source": [
    "import math\n",
    "\n",
    "metrics = [accuracy, precision, recall , F1]\n",
    "total = []\n",
    "\n",
    "for i in range(5):\n",
    "    avg = 0\n",
    "    for mt in metrics:\n",
    "        avg += mt[i]*0.25\n",
    "    avg = round(avg,2)*100\n",
    "    avg = math.trunc(avg)\n",
    "    total.append(avg)\n",
    "        \n",
    "print(total)"
   ]
  }
 ],
 "metadata": {
  "colab": {
   "collapsed_sections": [],
   "provenance": []
  },
  "kernelspec": {
   "display_name": "Python 3 (ipykernel)",
   "language": "python",
   "name": "python3"
  },
  "language_info": {
   "codemirror_mode": {
    "name": "ipython",
    "version": 3
   },
   "file_extension": ".py",
   "mimetype": "text/x-python",
   "name": "python",
   "nbconvert_exporter": "python",
   "pygments_lexer": "ipython3",
   "version": "3.9.13"
  }
 },
 "nbformat": 4,
 "nbformat_minor": 5
}

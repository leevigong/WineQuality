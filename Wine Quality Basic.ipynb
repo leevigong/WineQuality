{
 "cells": [
  {
   "cell_type": "markdown",
   "id": "fb8e7282",
   "metadata": {},
   "source": [
    "# 필요한 모듈 설정"
   ]
  },
  {
   "cell_type": "code",
   "execution_count": null,
   "id": "bff2d1f5",
   "metadata": {},
   "outputs": [],
   "source": [
    "import pandas as pd\n",
    "import matplotlib.pyplot as plt\n",
    "import seaborn as sns\n",
    "import numpy as np\n",
    "from matplotlib import patches\n",
    "%matplotlib inline"
   ]
  },
  {
   "cell_type": "markdown",
   "id": "ccf61697",
   "metadata": {},
   "source": [
    "# 데이터 로드"
   ]
  },
  {
   "cell_type": "code",
   "execution_count": null,
   "id": "b8e0b829",
   "metadata": {},
   "outputs": [],
   "source": [
    "wine = pd.read_csv('WineQT.csv')\n",
    "wine.drop([\"Id\"],axis=1, inplace=True) # 필요없는 'Id' column 제거\n",
    "wine.head()"
   ]
  },
  {
   "cell_type": "markdown",
   "id": "ef5d390f",
   "metadata": {},
   "source": [
    "## 데이터 크기, 결측치 확인"
   ]
  },
  {
   "cell_type": "code",
   "execution_count": null,
   "id": "8f820f66",
   "metadata": {},
   "outputs": [],
   "source": [
    "wine.shape"
   ]
  },
  {
   "cell_type": "code",
   "execution_count": null,
   "id": "294e8784",
   "metadata": {},
   "outputs": [],
   "source": [
    "wine.isnull().sum()"
   ]
  },
  {
   "cell_type": "markdown",
   "id": "c9f52129",
   "metadata": {},
   "source": [
    "# Modeling "
   ]
  },
  {
   "cell_type": "markdown",
   "id": "e3417deb",
   "metadata": {},
   "source": [
    "## Scaled, Normalization"
   ]
  },
  {
   "cell_type": "code",
   "execution_count": null,
   "id": "b7f5f3f3",
   "metadata": {},
   "outputs": [],
   "source": [
    "from sklearn import preprocessing\n",
    "from imblearn.over_sampling import SMOTE \n",
    "\n",
    "oversample = SMOTE()\n",
    "features, labels =  oversample.fit_resample(wine.drop([\"quality\"],axis=1), wine[\"quality\"])\n",
    "scaler = preprocessing.MinMaxScaler()\n",
    "scaled_data = pd.DataFrame(scaler.fit_transform(features), columns=features.columns)\n",
    "scaled_data"
   ]
  },
  {
   "cell_type": "code",
   "execution_count": null,
   "id": "a0b64a79",
   "metadata": {},
   "outputs": [],
   "source": [
    "normalized_arr = preprocessing.normalize(scaled_data)\n",
    "normalized_data = pd.DataFrame(normalized_arr, columns=features.columns)\n",
    "normalized_data"
   ]
  },
  {
   "cell_type": "code",
   "execution_count": null,
   "id": "2245672a",
   "metadata": {},
   "outputs": [],
   "source": [
    "from numpy import log\n",
    "import warnings\n",
    "warnings.filterwarnings(action='ignore')\n",
    "unskew_data = normalized_data.copy(deep=True)"
   ]
  },
  {
   "cell_type": "markdown",
   "id": "0ef2298c",
   "metadata": {},
   "source": [
    "## train / test split"
   ]
  },
  {
   "cell_type": "code",
   "execution_count": null,
   "id": "eed46067",
   "metadata": {},
   "outputs": [],
   "source": [
    "from sklearn.model_selection import train_test_split\n",
    "\n",
    "X_train, X_test, y_train, y_test = train_test_split(unskew_data, labels, test_size=0.2, random_state=42)"
   ]
  },
  {
   "cell_type": "markdown",
   "id": "8f5af49e",
   "metadata": {},
   "source": [
    "## Classifier Models"
   ]
  },
  {
   "cell_type": "code",
   "execution_count": null,
   "id": "53eab790",
   "metadata": {},
   "outputs": [],
   "source": [
    "from sklearn.ensemble import RandomForestClassifier, ExtraTreesClassifier\n",
    "from sklearn.tree import DecisionTreeClassifier\n",
    "from sklearn.linear_model import LogisticRegression\n",
    "from sklearn.neighbors import KNeighborsClassifier\n",
    "from sklearn.svm import SVC\n",
    "from sklearn.metrics import accuracy_score, precision_score, recall_score, f1_score\n",
    "from sklearn.metrics import classification_report\n",
    "from sklearn import metrics"
   ]
  },
  {
   "cell_type": "code",
   "execution_count": null,
   "id": "77449d64",
   "metadata": {},
   "outputs": [],
   "source": [
    "rnd_clf = RandomForestClassifier(random_state=42)\n",
    "log_clf = LogisticRegression(random_state=42)\n",
    "dt_clf = DecisionTreeClassifier(random_state=42)\n",
    "kn_clf = KNeighborsClassifier()\n",
    "svm_clf = SVC(random_state=42)\n",
    "\n",
    "models = [rnd_clf, dt_clf, kn_clf, svm_clf, log_clf]"
   ]
  },
  {
   "cell_type": "markdown",
   "id": "c9ab1ed1",
   "metadata": {},
   "source": [
    "## fit"
   ]
  },
  {
   "cell_type": "code",
   "execution_count": null,
   "id": "dde9d76a",
   "metadata": {},
   "outputs": [],
   "source": [
    "for m in models:\n",
    "    m.fit(X_train, y_train)"
   ]
  },
  {
   "cell_type": "markdown",
   "id": "f1e38030",
   "metadata": {},
   "source": [
    "## predict"
   ]
  },
  {
   "cell_type": "code",
   "execution_count": null,
   "id": "830440e9",
   "metadata": {},
   "outputs": [],
   "source": [
    "accuracy = []\n",
    "precision = []\n",
    "recall = []\n",
    "F1 = []\n",
    "\n",
    "for m in models:\n",
    "    y_pred = m.predict(X_test)\n",
    "    print(m.__class__.__name__,'Acc: ', accuracy_score(y_test,y_pred))\n",
    "    print(m.__class__.__name__,'Precision: ', precision_score(y_test,y_pred, average = \"macro\"))\n",
    "    print(m.__class__.__name__,'Recall: ', recall_score(y_test,y_pred, average = \"macro\"))\n",
    "    print(m.__class__.__name__,'F1: ', f1_score(y_test,y_pred, average = \"macro\"))\n",
    "    \n",
    "    print(\"\")\n",
    "    \n",
    "    acc = accuracy_score(y_test,y_pred)\n",
    "    pcs = precision_score(y_test,y_pred, average = \"macro\")\n",
    "    rec = recall_score(y_test,y_pred, average = \"macro\")\n",
    "    f1 = f1_score(y_test,y_pred, average = \"macro\")\n",
    "    \n",
    "    accuracy.append(acc)\n",
    "    precision.append(pcs)\n",
    "    recall.append(rec)\n",
    "    F1.append(f1)\n",
    "    \n",
    "    print(\"\")"
   ]
  },
  {
   "cell_type": "markdown",
   "id": "bca3b5a2",
   "metadata": {},
   "source": [
    "# Metrics Score"
   ]
  },
  {
   "cell_type": "code",
   "execution_count": null,
   "id": "58d283ad",
   "metadata": {},
   "outputs": [],
   "source": [
    "import math\n",
    "\n",
    "metrics = [accuracy, precision, recall , F1]\n",
    "total = []\n",
    "\n",
    "for i in range(5):\n",
    "    avg = 0\n",
    "    for mt in metrics:\n",
    "        avg += mt[i]*0.25\n",
    "    avg = round(avg,2)*100\n",
    "    avg = math.trunc(avg)\n",
    "    total.append(avg)\n",
    "        \n",
    "print(total)"
   ]
  }
 ],
 "metadata": {
  "kernelspec": {
   "display_name": "Python 3 (ipykernel)",
   "language": "python",
   "name": "python3"
  },
  "language_info": {
   "codemirror_mode": {
    "name": "ipython",
    "version": 3
   },
   "file_extension": ".py",
   "mimetype": "text/x-python",
   "name": "python",
   "nbconvert_exporter": "python",
   "pygments_lexer": "ipython3",
   "version": "3.9.13"
  }
 },
 "nbformat": 4,
 "nbformat_minor": 5
}
